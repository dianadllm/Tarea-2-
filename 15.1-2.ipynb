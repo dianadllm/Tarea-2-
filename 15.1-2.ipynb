{
 "cells": [
  {
   "cell_type": "markdown",
   "id": "8e393f2f",
   "metadata": {},
   "source": [
    "# Ejercicio 15.1-2"
   ]
  },
  {
   "cell_type": "markdown",
   "id": "92d2c112",
   "metadata": {},
   "source": [
    "Suppose that instead of always selecting the first activity to finish, we instead select the last activity to start that is compatible with all previously selected activities. Describe how this approach is a greedy algorithm, and prove that it yields an optimal solution."
   ]
  },
  {
   "cell_type": "markdown",
   "id": "aa18b541",
   "metadata": {},
   "source": [
    "### Solución "
   ]
  },
  {
   "cell_type": "markdown",
   "id": "59a95e67",
   "metadata": {},
   "source": [
    "Se vuelve como el problema original, al revés.\n"
   ]
  },
  {
   "cell_type": "markdown",
   "id": "95921694",
   "metadata": {},
   "source": [
    "GREEDY-ACTIVITY-SELECTOR(s,f)\n",
    "\tn = length[s]\n",
    "\tA = {an}\n",
    "\ti = n\n",
    "\tfor m <- n-1 to 1\n",
    "\t\tdo if fm <= si\n",
    "\t\t\tthen A <- A U {am}\n",
    "\t\t\t\ti <- m\n",
    "\treturn A"
   ]
  }
 ],
 "metadata": {
  "kernelspec": {
   "display_name": "Julia 1.11.1",
   "language": "julia",
   "name": "julia-1.11"
  },
  "language_info": {
   "file_extension": ".jl",
   "mimetype": "application/julia",
   "name": "julia",
   "version": "1.11.1"
  }
 },
 "nbformat": 4,
 "nbformat_minor": 5
}
