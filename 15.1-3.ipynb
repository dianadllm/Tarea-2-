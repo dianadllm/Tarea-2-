{
 "cells": [
  {
   "cell_type": "markdown",
   "id": "34db6a51",
   "metadata": {},
   "source": [
    "# Ejercicio 15.1-3"
   ]
  },
  {
   "cell_type": "markdown",
   "id": "8ebe4286",
   "metadata": {},
   "source": [
    "Not just any greedy approach to the activity-selection problem produces a max- imum-size set of mutually compatible activities. Give an example to show that the approach of selecting the activity of least duration from among those that are compatible with previously selected activities does not work. Do the same for the approaches of always selecting the compatible activity that overlaps the fewest other remaining activities and always selecting the compatible remaining activity with the earliest start time.\n"
   ]
  },
  {
   "cell_type": "markdown",
   "id": "2cacb984",
   "metadata": {},
   "source": [
    "### Solución"
   ]
  },
  {
   "cell_type": "markdown",
   "id": "59c7ca74",
   "metadata": {},
   "source": [
    "De las actividades compatibles, seleccionar la que dure menos tiempo."
   ]
  },
  {
   "cell_type": "markdown",
   "id": "4bd0ff0b",
   "metadata": {},
   "source": [
    "Contraejemplo: Actividades {(1,4)(3,5)(5,7)(8,9\n",
    ")} el algoritmo selecciona (5,7) las de menor duración, luego selecciona (8,9) compstible con (5,7), entonces el tamaño es 2 de la solución optima en este caso.\n",
    "La solución optime es (1,4)(5,7)(8,9) de tamaño 3. Elegir por menor duración ignora actividades compatibles más tempranas.\n",
    "\n"
   ]
  },
  {
   "cell_type": "code",
   "execution_count": null,
   "id": "d47e1263",
   "metadata": {},
   "outputs": [],
   "source": []
  }
 ],
 "metadata": {
  "kernelspec": {
   "display_name": "Julia 1.11.1",
   "language": "julia",
   "name": "julia-1.11"
  },
  "language_info": {
   "file_extension": ".jl",
   "mimetype": "application/julia",
   "name": "julia",
   "version": "1.11.1"
  }
 },
 "nbformat": 4,
 "nbformat_minor": 5
}
