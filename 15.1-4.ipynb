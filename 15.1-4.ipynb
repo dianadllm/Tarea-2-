{
 "cells": [
  {
   "cell_type": "markdown",
   "id": "e0760858",
   "metadata": {},
   "source": [
    "## Ejercicio 15.1-4"
   ]
  },
  {
   "cell_type": "markdown",
   "id": "ad2f5851",
   "metadata": {},
   "source": [
    "You are given a set of activities to schedule among a large number of lecture halls, where any activity can take place in any lecture hall. You wish to schedule all the activities using as few lecture halls as posible.\n"
   ]
  },
  {
   "cell_type": "markdown",
   "id": "495f7e7c",
   "metadata": {},
   "source": [
    "### Solución"
   ]
  },
  {
   "cell_type": "markdown",
   "id": "6a41319f",
   "metadata": {},
   "source": [
    "Una solución eficiente usa una estrategia basada en eventos y listas para minimizar el número de salas.\n",
    "Ordenando los eventos primero en tiempo $\\theta(nlogn)$,después usamos listas para las salas libres y una para las salas ocupadas, si hay salas libres asignamos la actividad, si no usamos con un tiempo que tomara $\\theta(n)$\n",
    "\n",
    "En el peor momento (cuando todas las salas están ocupadas simultáneamente), el número de salas necesarias es igual al número de actividades que ocurren al mismo tiempo."
   ]
  },
  {
   "cell_type": "code",
   "execution_count": null,
   "id": "87f1debc",
   "metadata": {},
   "outputs": [],
   "source": []
  }
 ],
 "metadata": {
  "kernelspec": {
   "display_name": "Julia 1.11.1",
   "language": "julia",
   "name": "julia-1.11"
  },
  "language_info": {
   "file_extension": ".jl",
   "mimetype": "application/julia",
   "name": "julia",
   "version": "1.11.1"
  }
 },
 "nbformat": 4,
 "nbformat_minor": 5
}
